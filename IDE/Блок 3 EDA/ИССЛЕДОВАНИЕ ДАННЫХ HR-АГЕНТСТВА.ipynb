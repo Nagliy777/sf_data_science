{
 "cells": [
  {
   "cell_type": "code",
   "execution_count": 208,
   "metadata": {},
   "outputs": [],
   "source": [
    "import pandas as pd\n",
    "import numpy as np\n",
    "\n",
    "import scipy.stats as stats\n",
    "from sklearn import datasets\n",
    "import statsmodels.api as sm\n",
    "from statsmodels import stats as sms\n",
    "\n",
    "from matplotlib import pyplot as plt\n",
    "import seaborn as sns\n",
    "\n"
   ]
  },
  {
   "cell_type": "code",
   "execution_count": 209,
   "metadata": {},
   "outputs": [
    {
     "data": {
      "text/html": [
       "<div>\n",
       "<style scoped>\n",
       "    .dataframe tbody tr th:only-of-type {\n",
       "        vertical-align: middle;\n",
       "    }\n",
       "\n",
       "    .dataframe tbody tr th {\n",
       "        vertical-align: top;\n",
       "    }\n",
       "\n",
       "    .dataframe thead th {\n",
       "        text-align: right;\n",
       "    }\n",
       "</style>\n",
       "<table border=\"1\" class=\"dataframe\">\n",
       "  <thead>\n",
       "    <tr style=\"text-align: right;\">\n",
       "      <th></th>\n",
       "      <th>Unnamed: 0</th>\n",
       "      <th>work_year</th>\n",
       "      <th>experience_level</th>\n",
       "      <th>employment_type</th>\n",
       "      <th>job_title</th>\n",
       "      <th>salary</th>\n",
       "      <th>salary_currency</th>\n",
       "      <th>salary_in_usd</th>\n",
       "      <th>employee_residence</th>\n",
       "      <th>remote_ratio</th>\n",
       "      <th>company_location</th>\n",
       "      <th>company_size</th>\n",
       "    </tr>\n",
       "  </thead>\n",
       "  <tbody>\n",
       "    <tr>\n",
       "      <th>0</th>\n",
       "      <td>0</td>\n",
       "      <td>2020</td>\n",
       "      <td>MI</td>\n",
       "      <td>FT</td>\n",
       "      <td>Data Scientist</td>\n",
       "      <td>70000</td>\n",
       "      <td>EUR</td>\n",
       "      <td>79833</td>\n",
       "      <td>DE</td>\n",
       "      <td>0</td>\n",
       "      <td>DE</td>\n",
       "      <td>L</td>\n",
       "    </tr>\n",
       "    <tr>\n",
       "      <th>1</th>\n",
       "      <td>1</td>\n",
       "      <td>2020</td>\n",
       "      <td>SE</td>\n",
       "      <td>FT</td>\n",
       "      <td>Machine Learning Scientist</td>\n",
       "      <td>260000</td>\n",
       "      <td>USD</td>\n",
       "      <td>260000</td>\n",
       "      <td>JP</td>\n",
       "      <td>0</td>\n",
       "      <td>JP</td>\n",
       "      <td>S</td>\n",
       "    </tr>\n",
       "    <tr>\n",
       "      <th>2</th>\n",
       "      <td>2</td>\n",
       "      <td>2020</td>\n",
       "      <td>SE</td>\n",
       "      <td>FT</td>\n",
       "      <td>Big Data Engineer</td>\n",
       "      <td>85000</td>\n",
       "      <td>GBP</td>\n",
       "      <td>109024</td>\n",
       "      <td>GB</td>\n",
       "      <td>50</td>\n",
       "      <td>GB</td>\n",
       "      <td>M</td>\n",
       "    </tr>\n",
       "  </tbody>\n",
       "</table>\n",
       "</div>"
      ],
      "text/plain": [
       "   Unnamed: 0  work_year experience_level employment_type  \\\n",
       "0           0       2020               MI              FT   \n",
       "1           1       2020               SE              FT   \n",
       "2           2       2020               SE              FT   \n",
       "\n",
       "                    job_title  salary salary_currency  salary_in_usd  \\\n",
       "0              Data Scientist   70000             EUR          79833   \n",
       "1  Machine Learning Scientist  260000             USD         260000   \n",
       "2           Big Data Engineer   85000             GBP         109024   \n",
       "\n",
       "  employee_residence  remote_ratio company_location company_size  \n",
       "0                 DE             0               DE            L  \n",
       "1                 JP             0               JP            S  \n",
       "2                 GB            50               GB            M  "
      ]
     },
     "execution_count": 209,
     "metadata": {},
     "output_type": "execute_result"
    }
   ],
   "source": [
    "data = pd.read_csv('ds_salaries.csv', sep=',')\n",
    "data.head(3)"
   ]
  },
  {
   "cell_type": "markdown",
   "metadata": {},
   "source": [
    "Удаляем лишние признаки:"
   ]
  },
  {
   "cell_type": "code",
   "execution_count": 210,
   "metadata": {},
   "outputs": [],
   "source": [
    "data = data.drop(['salary', 'salary_currency', 'employee_residence'], axis=1)"
   ]
  },
  {
   "cell_type": "code",
   "execution_count": 211,
   "metadata": {},
   "outputs": [
    {
     "name": "stdout",
     "output_type": "stream",
     "text": [
      "Уровень значимости alpha = 0.05\n"
     ]
    }
   ],
   "source": [
    "# Зададим уровень значитмости a\n",
    "alpha = 0.05 \n",
    "print(f'Уровень значимости alpha = {alpha}')"
   ]
  },
  {
   "cell_type": "markdown",
   "metadata": {},
   "source": [
    "## Описательный анализ данных"
   ]
  },
  {
   "cell_type": "code",
   "execution_count": 212,
   "metadata": {},
   "outputs": [
    {
     "name": "stdout",
     "output_type": "stream",
     "text": [
      "<class 'pandas.core.frame.DataFrame'>\n",
      "RangeIndex: 607 entries, 0 to 606\n",
      "Data columns (total 9 columns):\n",
      " #   Column            Non-Null Count  Dtype \n",
      "---  ------            --------------  ----- \n",
      " 0   Unnamed: 0        607 non-null    int64 \n",
      " 1   work_year         607 non-null    int64 \n",
      " 2   experience_level  607 non-null    object\n",
      " 3   employment_type   607 non-null    object\n",
      " 4   job_title         607 non-null    object\n",
      " 5   salary_in_usd     607 non-null    int64 \n",
      " 6   remote_ratio      607 non-null    int64 \n",
      " 7   company_location  607 non-null    object\n",
      " 8   company_size      607 non-null    object\n",
      "dtypes: int64(4), object(5)\n",
      "memory usage: 42.8+ KB\n"
     ]
    }
   ],
   "source": [
    "# Проверяю на наличие пропусков и типов.\n",
    "data.info()"
   ]
  },
  {
   "cell_type": "markdown",
   "metadata": {},
   "source": [
    "В датасете 607 записей (без пропущенных значений)."
   ]
  },
  {
   "cell_type": "markdown",
   "metadata": {},
   "source": [
    "Проверим данные на наличие полных дубликатов:"
   ]
  },
  {
   "cell_type": "code",
   "execution_count": 213,
   "metadata": {},
   "outputs": [
    {
     "name": "stdout",
     "output_type": "stream",
     "text": [
      "Число найденных дубликатов: 0\n"
     ]
    }
   ],
   "source": [
    "mask = data.duplicated()\n",
    "duplicates = data[mask]\n",
    "print(f'Число найденных дубликатов: {duplicates.shape[0]}')"
   ]
  },
  {
   "cell_type": "markdown",
   "metadata": {},
   "source": [
    "Создаю фильтр по профессии:"
   ]
  },
  {
   "cell_type": "code",
   "execution_count": 214,
   "metadata": {},
   "outputs": [],
   "source": [
    "Data_Scientist = data[data['job_title'] == 'Data Scientist']"
   ]
  },
  {
   "cell_type": "markdown",
   "metadata": {},
   "source": [
    "### Общее распределение зарплаты"
   ]
  },
  {
   "cell_type": "code",
   "execution_count": 215,
   "metadata": {},
   "outputs": [
    {
     "data": {
      "image/png": "[encoded data removed]",
      "text/plain": [
       "<Figure size 640x480 with 1 Axes>"
      ]
     },
     "metadata": {},
     "output_type": "display_data"
    },
    {
     "data": {
      "image/png": "[encoded data removed]",
      "text/plain": [
       "<Figure size 640x480 with 1 Axes>"
      ]
     },
     "metadata": {},
     "output_type": "display_data"
    }
   ],
   "source": [
    "# задаём параметры гистограммы\n",
    "ax = sns.histplot(Data_Scientist[\"salary_in_usd\"], bins=30, kde=True)\n",
    "ax.set(xlabel='Значение признака', ylabel='Частота')\n",
    "plt.title('Гистограмма распределения зарплаты')\n",
    "sm.qqplot(Data_Scientist[\"salary_in_usd\"], line='s')\n",
    "plt.title('Квантиль-квантиль график \\n для распределения зарпаты')\n",
    "plt.show()\n"
   ]
  },
  {
   "cell_type": "code",
   "execution_count": 216,
   "metadata": {},
   "outputs": [
    {
     "data": {
      "text/html": [
       "<div>\n",
       "<style scoped>\n",
       "    .dataframe tbody tr th:only-of-type {\n",
       "        vertical-align: middle;\n",
       "    }\n",
       "\n",
       "    .dataframe tbody tr th {\n",
       "        vertical-align: top;\n",
       "    }\n",
       "\n",
       "    .dataframe thead th {\n",
       "        text-align: right;\n",
       "    }\n",
       "</style>\n",
       "<table border=\"1\" class=\"dataframe\">\n",
       "  <thead>\n",
       "    <tr style=\"text-align: right;\">\n",
       "      <th></th>\n",
       "      <th>Размер зарплаты</th>\n",
       "    </tr>\n",
       "  </thead>\n",
       "  <tbody>\n",
       "    <tr>\n",
       "      <th>count</th>\n",
       "      <td>143.00</td>\n",
       "    </tr>\n",
       "    <tr>\n",
       "      <th>mean</th>\n",
       "      <td>108187.83</td>\n",
       "    </tr>\n",
       "    <tr>\n",
       "      <th>std</th>\n",
       "      <td>64112.84</td>\n",
       "    </tr>\n",
       "    <tr>\n",
       "      <th>min</th>\n",
       "      <td>2859.00</td>\n",
       "    </tr>\n",
       "    <tr>\n",
       "      <th>25%</th>\n",
       "      <td>54724.00</td>\n",
       "    </tr>\n",
       "    <tr>\n",
       "      <th>50%</th>\n",
       "      <td>103691.00</td>\n",
       "    </tr>\n",
       "    <tr>\n",
       "      <th>75%</th>\n",
       "      <td>140850.00</td>\n",
       "    </tr>\n",
       "    <tr>\n",
       "      <th>max</th>\n",
       "      <td>412000.00</td>\n",
       "    </tr>\n",
       "  </tbody>\n",
       "</table>\n",
       "</div>"
      ],
      "text/plain": [
       "       Размер зарплаты\n",
       "count           143.00\n",
       "mean         108187.83\n",
       "std           64112.84\n",
       "min            2859.00\n",
       "25%           54724.00\n",
       "50%          103691.00\n",
       "75%          140850.00\n",
       "max          412000.00"
      ]
     },
     "execution_count": 216,
     "metadata": {},
     "output_type": "execute_result"
    }
   ],
   "source": [
    "# Просмотр статистических данных\n",
    "data_agg = Data_Scientist[\"salary_in_usd\"].describe().round(2).to_frame()\n",
    "data_agg.columns = ['Размер зарплаты']\n",
    "data_agg"
   ]
  },
  {
   "cell_type": "markdown",
   "metadata": {},
   "source": [
    "Распределение зарплаты отлично от нормального, имеются выбросы."
   ]
  },
  {
   "cell_type": "markdown",
   "metadata": {},
   "source": [
    "### Распределение зарплаты Data Scientist в зависимости от года"
   ]
  },
  {
   "cell_type": "code",
   "execution_count": 217,
   "metadata": {},
   "outputs": [
    {
     "data": {
      "image/png": "[encoded data removed]",
      "text/plain": [
       "<Figure size 640x480 with 1 Axes>"
      ]
     },
     "metadata": {},
     "output_type": "display_data"
    }
   ],
   "source": [
    "ax = sns.boxplot(Data_Scientist, x='salary_in_usd', y='work_year', orient='h', medianprops={\"color\": \"red\", \"linestyle\": '--'})\n",
    "ax.set(xlabel='Размер зарплаты', ylabel='Год')\n",
    "plt.title('Распределение зарплаты в зависимости от года')\n",
    "plt.show()"
   ]
  },
  {
   "cell_type": "code",
   "execution_count": 218,
   "metadata": {},
   "outputs": [
    {
     "name": "stdout",
     "output_type": "stream",
     "text": [
      "Зарплата в зависимости от года\n"
     ]
    },
    {
     "data": {
      "text/html": [
       "<div>\n",
       "<style scoped>\n",
       "    .dataframe tbody tr th:only-of-type {\n",
       "        vertical-align: middle;\n",
       "    }\n",
       "\n",
       "    .dataframe tbody tr th {\n",
       "        vertical-align: top;\n",
       "    }\n",
       "\n",
       "    .dataframe thead th {\n",
       "        text-align: right;\n",
       "    }\n",
       "</style>\n",
       "<table border=\"1\" class=\"dataframe\">\n",
       "  <thead>\n",
       "    <tr style=\"text-align: right;\">\n",
       "      <th></th>\n",
       "      <th>count</th>\n",
       "      <th>mean</th>\n",
       "      <th>std</th>\n",
       "      <th>min</th>\n",
       "      <th>25%</th>\n",
       "      <th>50%</th>\n",
       "      <th>75%</th>\n",
       "      <th>max</th>\n",
       "    </tr>\n",
       "    <tr>\n",
       "      <th>work_year</th>\n",
       "      <th></th>\n",
       "      <th></th>\n",
       "      <th></th>\n",
       "      <th></th>\n",
       "      <th></th>\n",
       "      <th></th>\n",
       "      <th></th>\n",
       "      <th></th>\n",
       "    </tr>\n",
       "  </thead>\n",
       "  <tbody>\n",
       "    <tr>\n",
       "      <th>2020</th>\n",
       "      <td>21.0</td>\n",
       "      <td>85970.52</td>\n",
       "      <td>81436.65</td>\n",
       "      <td>21669.0</td>\n",
       "      <td>42197.0</td>\n",
       "      <td>62726.0</td>\n",
       "      <td>105000.0</td>\n",
       "      <td>412000.0</td>\n",
       "    </tr>\n",
       "    <tr>\n",
       "      <th>2021</th>\n",
       "      <td>45.0</td>\n",
       "      <td>70671.73</td>\n",
       "      <td>45422.97</td>\n",
       "      <td>2859.0</td>\n",
       "      <td>33808.0</td>\n",
       "      <td>73000.0</td>\n",
       "      <td>100000.0</td>\n",
       "      <td>165000.0</td>\n",
       "    </tr>\n",
       "    <tr>\n",
       "      <th>2022</th>\n",
       "      <td>77.0</td>\n",
       "      <td>136172.09</td>\n",
       "      <td>54563.08</td>\n",
       "      <td>18442.0</td>\n",
       "      <td>100000.0</td>\n",
       "      <td>140000.0</td>\n",
       "      <td>176000.0</td>\n",
       "      <td>260000.0</td>\n",
       "    </tr>\n",
       "  </tbody>\n",
       "</table>\n",
       "</div>"
      ],
      "text/plain": [
       "           count       mean       std      min       25%       50%       75%  \\\n",
       "work_year                                                                      \n",
       "2020        21.0   85970.52  81436.65  21669.0   42197.0   62726.0  105000.0   \n",
       "2021        45.0   70671.73  45422.97   2859.0   33808.0   73000.0  100000.0   \n",
       "2022        77.0  136172.09  54563.08  18442.0  100000.0  140000.0  176000.0   \n",
       "\n",
       "                max  \n",
       "work_year            \n",
       "2020       412000.0  \n",
       "2021       165000.0  \n",
       "2022       260000.0  "
      ]
     },
     "execution_count": 218,
     "metadata": {},
     "output_type": "execute_result"
    }
   ],
   "source": [
    "# Просмотр статистических данных\n",
    "data_agg = Data_Scientist.groupby('work_year')['salary_in_usd'].describe().round(2)\n",
    "print('Зарплата в зависимости от года')\n",
    "data_agg"
   ]
  },
  {
   "cell_type": "markdown",
   "metadata": {},
   "source": [
    "На первый взгляд ежегодный рост зарплаты происходит не каждый год.В 2021 году средняя зарплата даже меньше, чем в 2020 году. Количество соискателей с каждым годом росло. Чтобы определить, являются ли эти различия статистически значимыми, в следующем разделе мы проведём статистическое тестирование."
   ]
  },
  {
   "cell_type": "markdown",
   "metadata": {},
   "source": [
    "### Соотношение зарплаты Data Scientist и Data Engineer в 2022 году"
   ]
  },
  {
   "cell_type": "code",
   "execution_count": 219,
   "metadata": {},
   "outputs": [
    {
     "data": {
      "image/png": "[encoded data removed]",
      "text/plain": [
       "<Figure size 640x480 with 1 Axes>"
      ]
     },
     "metadata": {},
     "output_type": "display_data"
    }
   ],
   "source": [
    "year_2022=data[(data['work_year'] == 2022) & ((data['job_title'] == 'Data Scientist') | (data['job_title'] == 'Data Engineer'))]\n",
    "\n",
    "ax = sns.boxplot(year_2022, x='salary_in_usd', y='job_title', orient='h', medianprops={\"color\": \"red\", \"linestyle\": '--'})\n",
    "ax.set(xlabel='Размер зарплаты', ylabel='Год')\n",
    "plt.title('Распределение зарплаты в зависимости от профессии')\n",
    "plt.show()\n"
   ]
  },
  {
   "cell_type": "code",
   "execution_count": 220,
   "metadata": {},
   "outputs": [
    {
     "name": "stdout",
     "output_type": "stream",
     "text": [
      "Зарплата в зависимости от профессии\n"
     ]
    },
    {
     "data": {
      "text/html": [
       "<div>\n",
       "<style scoped>\n",
       "    .dataframe tbody tr th:only-of-type {\n",
       "        vertical-align: middle;\n",
       "    }\n",
       "\n",
       "    .dataframe tbody tr th {\n",
       "        vertical-align: top;\n",
       "    }\n",
       "\n",
       "    .dataframe thead th {\n",
       "        text-align: right;\n",
       "    }\n",
       "</style>\n",
       "<table border=\"1\" class=\"dataframe\">\n",
       "  <thead>\n",
       "    <tr style=\"text-align: right;\">\n",
       "      <th></th>\n",
       "      <th>count</th>\n",
       "      <th>mean</th>\n",
       "      <th>std</th>\n",
       "      <th>min</th>\n",
       "      <th>25%</th>\n",
       "      <th>50%</th>\n",
       "      <th>75%</th>\n",
       "      <th>max</th>\n",
       "    </tr>\n",
       "    <tr>\n",
       "      <th>job_title</th>\n",
       "      <th></th>\n",
       "      <th></th>\n",
       "      <th></th>\n",
       "      <th></th>\n",
       "      <th></th>\n",
       "      <th></th>\n",
       "      <th></th>\n",
       "      <th></th>\n",
       "    </tr>\n",
       "  </thead>\n",
       "  <tbody>\n",
       "    <tr>\n",
       "      <th>Data Engineer</th>\n",
       "      <td>89.0</td>\n",
       "      <td>126375.70</td>\n",
       "      <td>55954.40</td>\n",
       "      <td>25000.0</td>\n",
       "      <td>78526.0</td>\n",
       "      <td>120000.0</td>\n",
       "      <td>160000.0</td>\n",
       "      <td>324000.0</td>\n",
       "    </tr>\n",
       "    <tr>\n",
       "      <th>Data Scientist</th>\n",
       "      <td>77.0</td>\n",
       "      <td>136172.09</td>\n",
       "      <td>54563.08</td>\n",
       "      <td>18442.0</td>\n",
       "      <td>100000.0</td>\n",
       "      <td>140000.0</td>\n",
       "      <td>176000.0</td>\n",
       "      <td>260000.0</td>\n",
       "    </tr>\n",
       "  </tbody>\n",
       "</table>\n",
       "</div>"
      ],
      "text/plain": [
       "                count       mean       std      min       25%       50%  \\\n",
       "job_title                                                                 \n",
       "Data Engineer    89.0  126375.70  55954.40  25000.0   78526.0  120000.0   \n",
       "Data Scientist   77.0  136172.09  54563.08  18442.0  100000.0  140000.0   \n",
       "\n",
       "                     75%       max  \n",
       "job_title                           \n",
       "Data Engineer   160000.0  324000.0  \n",
       "Data Scientist  176000.0  260000.0  "
      ]
     },
     "execution_count": 220,
     "metadata": {},
     "output_type": "execute_result"
    }
   ],
   "source": [
    "# Просмотр статистических данных\n",
    "data_agg = year_2022.groupby('job_title')['salary_in_usd'].describe().round(2)\n",
    "print('Зарплата в зависимости от профессии')\n",
    "data_agg"
   ]
  },
  {
   "cell_type": "markdown",
   "metadata": {},
   "source": [
    "Распределения зарплат различны в зависимости от профессии.Зарплата Data Scientist в среднем немного выше. Чтобы определить, являются ли эти различия статистически значимыми, в следующем разделе мы проведём статистические тесты."
   ]
  },
  {
   "cell_type": "markdown",
   "metadata": {},
   "source": [
    "### Соотношение зарплаты специалистов Data Scientist в компаниях различных размеров"
   ]
  },
  {
   "cell_type": "code",
   "execution_count": 221,
   "metadata": {},
   "outputs": [
    {
     "data": {
      "image/png": "[encoded data removed]",
      "text/plain": [
       "<Figure size 640x480 with 1 Axes>"
      ]
     },
     "metadata": {},
     "output_type": "display_data"
    }
   ],
   "source": [
    "ax = sns.boxplot(Data_Scientist, x='salary_in_usd', y='company_size', orient='h', medianprops={\"color\": \"red\", \"linestyle\": '--'})\n",
    "ax.set(xlabel='Размер зарплаты', ylabel='Размер компании')\n",
    "plt.title('Зарплата в зависимости от размера компании')\n",
    "plt.show()"
   ]
  },
  {
   "cell_type": "code",
   "execution_count": 222,
   "metadata": {},
   "outputs": [
    {
     "name": "stdout",
     "output_type": "stream",
     "text": [
      "Зарплата в зависимости от размера компании\n"
     ]
    },
    {
     "data": {
      "text/html": [
       "<div>\n",
       "<style scoped>\n",
       "    .dataframe tbody tr th:only-of-type {\n",
       "        vertical-align: middle;\n",
       "    }\n",
       "\n",
       "    .dataframe tbody tr th {\n",
       "        vertical-align: top;\n",
       "    }\n",
       "\n",
       "    .dataframe thead th {\n",
       "        text-align: right;\n",
       "    }\n",
       "</style>\n",
       "<table border=\"1\" class=\"dataframe\">\n",
       "  <thead>\n",
       "    <tr style=\"text-align: right;\">\n",
       "      <th></th>\n",
       "      <th>count</th>\n",
       "      <th>mean</th>\n",
       "      <th>std</th>\n",
       "      <th>min</th>\n",
       "      <th>25%</th>\n",
       "      <th>50%</th>\n",
       "      <th>75%</th>\n",
       "      <th>max</th>\n",
       "    </tr>\n",
       "    <tr>\n",
       "      <th>company_size</th>\n",
       "      <th></th>\n",
       "      <th></th>\n",
       "      <th></th>\n",
       "      <th></th>\n",
       "      <th></th>\n",
       "      <th></th>\n",
       "      <th></th>\n",
       "      <th></th>\n",
       "    </tr>\n",
       "  </thead>\n",
       "  <tbody>\n",
       "    <tr>\n",
       "      <th>L</th>\n",
       "      <td>45.0</td>\n",
       "      <td>103313.36</td>\n",
       "      <td>71815.18</td>\n",
       "      <td>13400.0</td>\n",
       "      <td>50000.0</td>\n",
       "      <td>90734.0</td>\n",
       "      <td>135000.0</td>\n",
       "      <td>412000.0</td>\n",
       "    </tr>\n",
       "    <tr>\n",
       "      <th>M</th>\n",
       "      <td>77.0</td>\n",
       "      <td>126380.75</td>\n",
       "      <td>56389.53</td>\n",
       "      <td>4000.0</td>\n",
       "      <td>90000.0</td>\n",
       "      <td>130000.0</td>\n",
       "      <td>165000.0</td>\n",
       "      <td>260000.0</td>\n",
       "    </tr>\n",
       "    <tr>\n",
       "      <th>S</th>\n",
       "      <td>21.0</td>\n",
       "      <td>51925.76</td>\n",
       "      <td>33216.29</td>\n",
       "      <td>2859.0</td>\n",
       "      <td>21669.0</td>\n",
       "      <td>49268.0</td>\n",
       "      <td>82500.0</td>\n",
       "      <td>105000.0</td>\n",
       "    </tr>\n",
       "  </tbody>\n",
       "</table>\n",
       "</div>"
      ],
      "text/plain": [
       "              count       mean       std      min      25%       50%  \\\n",
       "company_size                                                           \n",
       "L              45.0  103313.36  71815.18  13400.0  50000.0   90734.0   \n",
       "M              77.0  126380.75  56389.53   4000.0  90000.0  130000.0   \n",
       "S              21.0   51925.76  33216.29   2859.0  21669.0   49268.0   \n",
       "\n",
       "                   75%       max  \n",
       "company_size                      \n",
       "L             135000.0  412000.0  \n",
       "M             165000.0  260000.0  \n",
       "S              82500.0  105000.0  "
      ]
     },
     "execution_count": 222,
     "metadata": {},
     "output_type": "execute_result"
    }
   ],
   "source": [
    "# Просмотр статистических данных\n",
    "data_agg = Data_Scientist.groupby('company_size')['salary_in_usd'].describe().round(2)\n",
    "print('Зарплата в зависимости от размера компании')\n",
    "data_agg"
   ]
  },
  {
   "cell_type": "markdown",
   "metadata": {},
   "source": [
    "Зарплата в зависимости от размера компании различна. Наименьшая зарплата в небольших компаниях.А вот в средних компаниях сотрудники получают наиболее высокую зарплату.Чтобы определить, являются ли эти различия статистически значимыми, в следующем разделе мы проведём статистические тесты."
   ]
  },
  {
   "cell_type": "markdown",
   "metadata": {},
   "source": [
    " ### Связь между наличием должностей Data Scientist и Data Engineer и размером компании"
   ]
  },
  {
   "cell_type": "code",
   "execution_count": 223,
   "metadata": {},
   "outputs": [
    {
     "data": {
      "image/png": "[encoded data removed]",
      "text/plain": [
       "<Figure size 640x480 with 1 Axes>"
      ]
     },
     "metadata": {},
     "output_type": "display_data"
    }
   ],
   "source": [
    "job=data[(data['job_title'] == 'Data Scientist') | (data['job_title'] == 'Data Engineer')]\n",
    "\n",
    "ax = sns.countplot(data=job, x=data['company_size'], hue='job_title')\n",
    "ax.set(xlabel='Размер компании', ylabel='Количество')\n",
    "plt.title('Связь профессии в зависимости от размера компании')\n",
    "plt.show()"
   ]
  },
  {
   "cell_type": "code",
   "execution_count": 224,
   "metadata": {},
   "outputs": [
    {
     "data": {
      "image/png": "[encoded data removed]",
      "text/plain": [
       "<Figure size 640x480 with 2 Axes>"
      ]
     },
     "metadata": {},
     "output_type": "display_data"
    }
   ],
   "source": [
    "cross_tab = pd.crosstab(index=job['company_size'], columns=job['job_title'])\n",
    "ax = sns.heatmap(cross_tab, annot=True, linewidth=.5, fmt='.0f', cmap=\"coolwarm\")\n",
    "ax.set(xlabel='Профессия', ylabel='Размер компании')\n",
    "plt.title('Таблица сопряженности')\n",
    "plt.show()"
   ]
  },
  {
   "cell_type": "markdown",
   "metadata": {},
   "source": [
    "В небольшой компании наблюдается весомый разрыв между количеством соискателей Data Scientist и Data Engineer.Причём Data Engineer в несколько раз меньше. А вот в средних компаниях количество Data Engineer выше чем Data Scientist.Чтобы определить, являются ли эти различия статистически значимыми, в следующем разделе мы проведём статистические тесты."
   ]
  },
  {
   "cell_type": "markdown",
   "metadata": {},
   "source": [
    "## Статистический анализ данных"
   ]
  },
  {
   "cell_type": "code",
   "execution_count": 225,
   "metadata": {},
   "outputs": [],
   "source": [
    "# функция для принятия решения о нормальности\n",
    "def decision_normality(p):\n",
    "    print('p-value = {:.3f}'.format(p))\n",
    "    if p <= alpha:\n",
    "        print('p-значение меньше, чем заданный уровень значимости {:.2f}. Распределение отлично от нормального'.format(alpha))\n",
    "    else:\n",
    "        print('p-значение больше, чем заданный уровень значимости {:.2f}. Распределение является нормальным'.format(alpha))\n",
    "\n",
    "\n",
    "# функция для принятия решения об отклонении нулевой гипотезы\n",
    "def decision_hypothesis(p):\n",
    "    print('p-value = {:.3f}'.format(p))\n",
    "    if p <= alpha:\n",
    "        print('p-значение меньше, чем заданный уровень значимости {:.2f}. Отвергаем нулевую гипотезу в пользу альтернативной.'.format(alpha))\n",
    "    else:\n",
    "        print('p-значение больше, чем заданный уровень значимости {:.2f}. У нас нет оснований отвергнуть нулевую гипотезу.'.format(alpha))"
   ]
  },
  {
   "cell_type": "markdown",
   "metadata": {},
   "source": [
    "### Наблюдается ли ежегодный рост зарплат у специалистов Data Scientist?\n",
    "\n",
    "**Сформулируем нулевую и альтернативные гипотезы**\n",
    "\n",
    "*Нулевая гипотеза* ($H_0$): размер зарплаты за прошлый год($μ_1$) статистически меньше либо равен размеру зарплаты следующего года($μ_2$).\n",
    "\n",
    "$$ H_0 : μ_1 <= μ_2$$\n",
    "\n",
    "*Альтернативная гипотеза* ($H_1$): размер за прошлый год ($μ_1$) статистически больше, чем размер зарплаты следующего года($μ_2$).\n",
    "\n",
    "$$ H_1 : μ_1 > μ_2$$"
   ]
  },
  {
   "cell_type": "markdown",
   "metadata": {},
   "source": [
    "**Проверка на нормальность**\n",
    "\n",
    "С помощью теста Шапиро-Уилка проверим, распределён ли признак нормально."
   ]
  },
  {
   "cell_type": "code",
   "execution_count": 226,
   "metadata": {},
   "outputs": [
    {
     "name": "stdout",
     "output_type": "stream",
     "text": [
      "Распределение зарплат у специалистов Data Scientist:\n",
      "p-value = 0.000\n",
      "p-значение меньше, чем заданный уровень значимости 0.05. Распределение отлично от нормального\n"
     ]
    }
   ],
   "source": [
    "# проводим тест Шапиро-Уилка\n",
    "print('Распределение зарплат у специалистов Data Scientist:')\n",
    "result = stats.shapiro(Data_Scientist[['salary_in_usd']])\n",
    "decision_normality(result[1])"
   ]
  },
  {
   "cell_type": "code",
   "execution_count": 227,
   "metadata": {},
   "outputs": [
    {
     "data": {
      "text/plain": [
       "array([2020, 2021, 2022], dtype=int64)"
      ]
     },
     "execution_count": 227,
     "metadata": {},
     "output_type": "execute_result"
    }
   ],
   "source": [
    "# узнаю за какое время данные распределены\n",
    "Data_Scientist['work_year'].unique()"
   ]
  },
  {
   "cell_type": "markdown",
   "metadata": {},
   "source": [
    "**Выберем подходящий статистический тест**\n",
    "* Буду сравнивать зарплату Data Scientist за 2020 и 2021 годы, а также 2021 и 2022 годы.Таким образом отвечу на вопрос.\n",
    "Для выбора нужного теста воспользуемся алгоритмом выбора теста. Для этого ответим на следующие вопросы:\n",
    "\n",
    "* Какой тип у признака «Зарплата в долларах США»? — Количественный.\n",
    "* Сколько сравниваемых групп? — две.\n",
    "* Группы зависимы? — Нет.\n",
    "* Признак распределён по нормальному закону? — Нет.\n",
    "\n",
    "Чтобы проверить нашу гипотезу, можно использовать U-критерий Манна — Уитни для сравнения распределений на основе рангов.\n",
    "\n"
   ]
  },
  {
   "cell_type": "code",
   "execution_count": 228,
   "metadata": {},
   "outputs": [],
   "source": [
    "# Фильтрую по году, в котором была выплачена зарплата.\n",
    "year_2020 = Data_Scientist[Data_Scientist['work_year'] == 2020]\n",
    "year_2021 = Data_Scientist[Data_Scientist['work_year'] == 2021]\n",
    "year_2022 = Data_Scientist[Data_Scientist['work_year'] == 2022]"
   ]
  },
  {
   "cell_type": "markdown",
   "metadata": {},
   "source": [
    "**Проведём тест**"
   ]
  },
  {
   "cell_type": "code",
   "execution_count": 229,
   "metadata": {},
   "outputs": [
    {
     "name": "stdout",
     "output_type": "stream",
     "text": [
      "Сравнение зарплаты 2020 и 2021 года\n",
      "p-value = 0.320\n",
      "p-значение больше, чем заданный уровень значимости 0.05. У нас нет оснований отвергнуть нулевую гипотезу.\n",
      "Сравнение зарплаты 2021 и 2022 года\n",
      "p-value = 1.000\n",
      "p-значение больше, чем заданный уровень значимости 0.05. У нас нет оснований отвергнуть нулевую гипотезу.\n"
     ]
    }
   ],
   "source": [
    "# проводим тест\n",
    "print('Сравнение зарплаты 2020 и 2021 года')\n",
    "_, p = stats.mannwhitneyu(year_2020['salary_in_usd'], year_2021['salary_in_usd'], alternative='greater')\n",
    "decision_hypothesis(p)\n",
    "\n",
    "print('Сравнение зарплаты 2021 и 2022 года')\n",
    "_, p = stats.mannwhitneyu(year_2021['salary_in_usd'], year_2022['salary_in_usd'], alternative='greater')\n",
    "decision_hypothesis(p)"
   ]
  },
  {
   "cell_type": "markdown",
   "metadata": {},
   "source": [
    "**Вывод: Зарплата с каждым годом становится выше, либо не меняется. Нет оснований говорить, что зарплата становится меньше.**"
   ]
  },
  {
   "cell_type": "markdown",
   "metadata": {},
   "source": [
    "### Как соотносятся зарплаты Data Scientist и Data Engineer в 2022 году?\n",
    "**Сформулируем нулевую и альтернативные гипотезы**\n",
    "\n",
    "*Нулевая гипотеза* ($H_0$): размер зарплаты Data Scientist ($μ_1$) статистически больше либо равен размеру зарплаты Data Engineer ($μ_2$).\n",
    "\n",
    "$$ H_0 : μ_1 >= μ_2$$\n",
    "\n",
    "*Альтернативная гипотеза* ($H_1$): размер зарплаты Data Scientist ($μ_1$) статистически меньше, чем размер зарплат Data Engineer ($μ_2$).\n",
    "$$ H_1 : μ_1 < μ_2$$"
   ]
  },
  {
   "cell_type": "markdown",
   "metadata": {},
   "source": [
    "**Проверка на нормальность**\n",
    "\n",
    "С помощью теста Шапиро-Уилка проверим, распределён ли признак нормально."
   ]
  },
  {
   "cell_type": "code",
   "execution_count": 230,
   "metadata": {},
   "outputs": [
    {
     "name": "stdout",
     "output_type": "stream",
     "text": [
      "Распределение зарплат у специалистов Data Engineer:\n",
      "p-value = 0.010\n",
      "p-значение меньше, чем заданный уровень значимости 0.05. Распределение отлично от нормального\n",
      "Распределение зарплат у специалистов Data Scientist:\n",
      "p-value = 0.327\n",
      "p-значение больше, чем заданный уровень значимости 0.05. Распределение является нормальным\n"
     ]
    }
   ],
   "source": [
    "# Фильтр по году и профессии\n",
    "Data_Engineer = data[(data['job_title'] == 'Data Engineer') & (data['work_year'] == 2022)]\n",
    "Data_Scientist = data[(data['job_title'] == 'Data Scientist') & (data['work_year'] == 2022)]\n",
    "# проводим тест Шапиро-Уилка\n",
    "print('Распределение зарплат у специалистов Data Engineer:')\n",
    "result = stats.shapiro(Data_Engineer[['salary_in_usd']])\n",
    "decision_normality(result[1])\n",
    "print('Распределение зарплат у специалистов Data Scientist:')\n",
    "result = stats.shapiro(Data_Scientist[['salary_in_usd']])\n",
    "decision_normality(result[1])"
   ]
  },
  {
   "cell_type": "markdown",
   "metadata": {},
   "source": [
    "**Выберем подходящий статистический тест**\n",
    "Для выбора нужного теста воспользуемся алгоритмом выбора теста. Для этого ответим на следующие вопросы:\n",
    "\n",
    "* Какой тип у признака «Зарплата в долларах США»? — Количественный.\n",
    "* Сколько сравниваемых групп? — две.\n",
    "* Группы зависимы? — Нет.\n",
    "* Признак распределён по нормальному закону? — Нет.\n",
    "\n",
    "Чтобы проверить нашу гипотезу, можно использовать U-критерий Манна — Уитни для сравнения распределений на основе рангов."
   ]
  },
  {
   "cell_type": "code",
   "execution_count": 231,
   "metadata": {},
   "outputs": [
    {
     "name": "stdout",
     "output_type": "stream",
     "text": [
      "p-value = 0.923\n",
      "p-значение больше, чем заданный уровень значимости 0.05. У нас нет оснований отвергнуть нулевую гипотезу.\n"
     ]
    }
   ],
   "source": [
    "# проводим тест\n",
    "_, p = stats.mannwhitneyu(Data_Scientist['salary_in_usd'], Data_Engineer['salary_in_usd'], alternative='less')\n",
    "decision_hypothesis(p)"
   ]
  },
  {
   "cell_type": "markdown",
   "metadata": {},
   "source": [
    "**Вывод:\n",
    "Зарплата у Data Scientist выше или равна зарплате Data Engineer.**"
   ]
  },
  {
   "cell_type": "markdown",
   "metadata": {},
   "source": [
    "### Как соотносятся зарплаты специалистов Data Scientist в компаниях различных размеров?\n",
    "\n",
    "**Сформулируем нулевую и альтернативные гипотезы**\n",
    "\n",
    "*Нулевая гипотеза*: зарплаты специалистов Data Scientist не отличаются в разных компаниях: S — (небольшая компания) ($μ_1$), M — (средняя компания) ($μ_2$), L — (крупная компания) ($μ_3$).\n",
    "\n",
    "$$ H_0 : μ_1 = μ_2 = μ_3 $$\n",
    "\n",
    "*Альтернативная гипотеза*: зарплаты специалистов Data Scientist отличаются в зависимости от компании: S — (небольшая компания) ($μ_1$), M — (средняя компания) ($μ_2$), L — (крупная компания) ($μ_3$).\n",
    "\n",
    "\n",
    "\n"
   ]
  },
  {
   "cell_type": "markdown",
   "metadata": {},
   "source": [
    "**Проверка на нормальность**\n",
    "\n",
    "С помощью теста Шапиро-Уилка проверим, распределён ли признак нормально."
   ]
  },
  {
   "cell_type": "code",
   "execution_count": 232,
   "metadata": {},
   "outputs": [
    {
     "name": "stdout",
     "output_type": "stream",
     "text": [
      "Распределение зарплат у специалистов в компании S:\n",
      "p-value = 0.189\n",
      "p-значение больше, чем заданный уровень значимости 0.05. Распределение является нормальным\n",
      "Распределение зарплат у специалистов в компании M:\n",
      "p-value = 0.639\n",
      "p-значение больше, чем заданный уровень значимости 0.05. Распределение является нормальным\n",
      "Распределение зарплат у специалистов в компании L:\n",
      "p-value = 0.000\n",
      "p-значение меньше, чем заданный уровень значимости 0.05. Распределение отлично от нормального\n"
     ]
    }
   ],
   "source": [
    "# Фильтр по профессии\n",
    "Data_Scientist = data[data['job_title'] == 'Data Scientist']\n",
    "# Фильтр по размеру компании\n",
    "Data_Scientist_S = Data_Scientist[Data_Scientist['company_size'] == 'S']\n",
    "Data_Scientist_M = Data_Scientist[Data_Scientist['company_size'] == 'M']\n",
    "Data_Scientist_L = Data_Scientist[Data_Scientist['company_size'] == 'L']\n",
    "# проводим тест Шапиро-Уилка\n",
    "print('Распределение зарплат у специалистов в компании S:')\n",
    "result = stats.shapiro(Data_Scientist_S[['salary_in_usd']])\n",
    "decision_normality(result[1])\n",
    "print('Распределение зарплат у специалистов в компании M:')\n",
    "result = stats.shapiro(Data_Scientist_M [['salary_in_usd']])\n",
    "decision_normality(result[1])\n",
    "print('Распределение зарплат у специалистов в компании L:')\n",
    "result = stats.shapiro(Data_Scientist_L [['salary_in_usd']])\n",
    "decision_normality(result[1])"
   ]
  },
  {
   "cell_type": "markdown",
   "metadata": {},
   "source": [
    "**Выберем подходящий статистический тест**\n",
    "\n",
    "Для выбора нужного теста воспользуемся алгоритмом выбора теста. Для этого ответим на следующие вопросы:\n",
    "* Какой тип у признака «Регион проживания в США»? — Количественный.\n",
    "* Сколько сравниваемых групп? — Три.\n",
    "* Группы зависимы? — Нет.\n",
    "* Признак распределён по нормальному закону? — Нет. \n",
    "\n",
    "Для проверки нашей гипотезы можно использовать критерий Краскела — Уоллиса.\n",
    "\n",
    "**Проведём тест**"
   ]
  },
  {
   "cell_type": "code",
   "execution_count": 233,
   "metadata": {},
   "outputs": [
    {
     "name": "stdout",
     "output_type": "stream",
     "text": [
      "p-value = 0.000\n",
      "p-значение меньше, чем заданный уровень значимости 0.05. Отвергаем нулевую гипотезу в пользу альтернативной.\n"
     ]
    }
   ],
   "source": [
    "# проводим тест\n",
    "_, p = stats.kruskal(Data_Scientist_S['salary_in_usd'], Data_Scientist_M['salary_in_usd'], Data_Scientist_L['salary_in_usd'])\n",
    "decision_hypothesis(p)"
   ]
  },
  {
   "cell_type": "markdown",
   "metadata": {},
   "source": [
    "**Вывод:\n",
    "зарплаты специалистов Data Scientist отличаются в зависимости от размера компании**"
   ]
  },
  {
   "cell_type": "markdown",
   "metadata": {},
   "source": [
    "### Есть ли связь между наличием должностей Data Scientist и Data Engineer и размером компании?"
   ]
  },
  {
   "cell_type": "markdown",
   "metadata": {},
   "source": [
    "*Сформулируем нулевую и альтернативные гипотезы**\n",
    "\n",
    "*Нулевая гипотеза*: между наличием должностей Data Scientist и Data Engineer и размером компании нет взаимосвязи (признаки независимы).\n",
    "\n",
    "*Альтернативная гипотеза*: между наличием должностей Data Scientist и Data Engineer и размером компании есть взаимосвязь (признаки зависимы)."
   ]
  },
  {
   "cell_type": "markdown",
   "metadata": {},
   "source": [
    "**Выберем подходящий статистический тест**\n",
    "\n",
    "Для выбора нужного теста воспользуемся алгоритмом выбора теста. Для этого ответим на следующие вопросы:\n",
    "* Какой тип у признака «company_size»? — Категориальный.\n",
    "* Сколько сравниваемых групп? — Три.\n",
    "* Проверяется независимость групп? — Да.\n",
    "\n",
    "Для проверки нашей гипотезы можно использовать критерий ${\\chi}^2$ (хи-квадрат).\n",
    "\n",
    "**Проведём тест**"
   ]
  },
  {
   "cell_type": "code",
   "execution_count": 234,
   "metadata": {},
   "outputs": [
    {
     "data": {
      "text/html": [
       "<div>\n",
       "<style scoped>\n",
       "    .dataframe tbody tr th:only-of-type {\n",
       "        vertical-align: middle;\n",
       "    }\n",
       "\n",
       "    .dataframe tbody tr th {\n",
       "        vertical-align: top;\n",
       "    }\n",
       "\n",
       "    .dataframe thead th {\n",
       "        text-align: right;\n",
       "    }\n",
       "</style>\n",
       "<table border=\"1\" class=\"dataframe\">\n",
       "  <thead>\n",
       "    <tr style=\"text-align: right;\">\n",
       "      <th>job_title</th>\n",
       "      <th>Data Engineer</th>\n",
       "      <th>Data Scientist</th>\n",
       "    </tr>\n",
       "    <tr>\n",
       "      <th>company_size</th>\n",
       "      <th></th>\n",
       "      <th></th>\n",
       "    </tr>\n",
       "  </thead>\n",
       "  <tbody>\n",
       "    <tr>\n",
       "      <th>L</th>\n",
       "      <td>37</td>\n",
       "      <td>45</td>\n",
       "    </tr>\n",
       "    <tr>\n",
       "      <th>M</th>\n",
       "      <td>89</td>\n",
       "      <td>77</td>\n",
       "    </tr>\n",
       "    <tr>\n",
       "      <th>S</th>\n",
       "      <td>6</td>\n",
       "      <td>21</td>\n",
       "    </tr>\n",
       "  </tbody>\n",
       "</table>\n",
       "</div>"
      ],
      "text/plain": [
       "job_title     Data Engineer  Data Scientist\n",
       "company_size                               \n",
       "L                        37              45\n",
       "M                        89              77\n",
       "S                         6              21"
      ]
     },
     "execution_count": 234,
     "metadata": {},
     "output_type": "execute_result"
    }
   ],
   "source": [
    "# Фильтр по профессии\n",
    "job=data[(data['job_title'] == 'Data Scientist') | (data['job_title'] == 'Data Engineer')]\n",
    "# составляем таблицу сопряжённости\n",
    "cross_table = pd.crosstab(job['company_size'], job['job_title'])\n",
    "\n",
    "cross_table"
   ]
  },
  {
   "cell_type": "code",
   "execution_count": 235,
   "metadata": {},
   "outputs": [
    {
     "name": "stdout",
     "output_type": "stream",
     "text": [
      "p-value = 0.008\n",
      "p-значение меньше, чем заданный уровень значимости 0.05. Отвергаем нулевую гипотезу в пользу альтернативной.\n"
     ]
    }
   ],
   "source": [
    "# проводим тест\n",
    "_, p, _, _ = stats.chi2_contingency(cross_table)\n",
    "decision_hypothesis(p)"
   ]
  },
  {
   "cell_type": "markdown",
   "metadata": {},
   "source": [
    "**Вывод:\n",
    "между наличием должностей Data Scientist и Data Engineer и размером компании есть взаимосвязь (признаки зависимы)**"
   ]
  },
  {
   "cell_type": "markdown",
   "metadata": {},
   "source": [
    "## Дополнительные исследования"
   ]
  },
  {
   "cell_type": "markdown",
   "metadata": {},
   "source": [
    "### Наблюдается ли рост зарплат в зависимости от опыта работы Data Scientist?\n",
    "\n",
    "**Сформулируем нулевую и альтернативные гипотезы**\n",
    "\n",
    "*Нулевая гипотеза* ($H_0$): размер зарплаты специалиста на позиции младше ($μ_1$) статистически меньше либо равен размеру зарплаты специалиста на одну позицию выше($μ_2$).\n",
    "\n",
    "$$ H_0 : μ_1 <= μ_2$$\n",
    "\n",
    "*Альтернативная гипотеза* ($H_1$): размер зарплаты специалиста на позиции младше($μ_1$) статистически больше, чем размер зарплаты специалиста на одну позицию выше($μ_2$).\n",
    "\n",
    "$$ H_1 : μ_1 > μ_2$$"
   ]
  },
  {
   "cell_type": "markdown",
   "metadata": {},
   "source": [
    "**Проверка на нормальность**\n",
    "\n",
    "С помощью теста Шапиро-Уилка проверим, распределён ли признак нормально."
   ]
  },
  {
   "cell_type": "code",
   "execution_count": 236,
   "metadata": {},
   "outputs": [
    {
     "name": "stdout",
     "output_type": "stream",
     "text": [
      "Распределение зарплат у специалистов Data Scientist:\n",
      "p-value = 0.000\n",
      "p-значение меньше, чем заданный уровень значимости 0.05. Распределение отлично от нормального\n"
     ]
    }
   ],
   "source": [
    "# проводим тест Шапиро-Уилка\n",
    "print('Распределение зарплат у специалистов Data Scientist:')\n",
    "result = stats.shapiro(Data_Scientist[['salary_in_usd']])\n",
    "decision_normality(result[1])"
   ]
  },
  {
   "cell_type": "markdown",
   "metadata": {},
   "source": [
    "**Визуальный анализ данных**"
   ]
  },
  {
   "cell_type": "code",
   "execution_count": 237,
   "metadata": {},
   "outputs": [
    {
     "data": {
      "image/png": "[encoded data removed]",
      "text/plain": [
       "<Figure size 640x480 with 1 Axes>"
      ]
     },
     "metadata": {},
     "output_type": "display_data"
    }
   ],
   "source": [
    "ax = sns.boxplot(Data_Scientist, x='salary_in_usd', y='experience_level', orient='h', medianprops={\"color\": \"red\", \"linestyle\": '--'})\n",
    "ax.set(xlabel='Размер зарплаты', ylabel='Опыт работы')\n",
    "plt.title('Распределение зарплаты в зависимости от опыта работы')\n",
    "plt.show()"
   ]
  },
  {
   "cell_type": "markdown",
   "metadata": {},
   "source": [
    "**Выберем подходящий статистический тест**\n",
    "* Буду сравнивать зарплату Data Scientist на позициях     \n",
    "1.EN — Entry-level/Junior и MI - Mid-level/Intermediate       \n",
    "2.MI — Mid-level/Intermediate и 2SE - Senior-level/Expert      \n",
    "3.SE — Senior-level/Expert и EX - Executive-level/Director.    \n",
    "Таким образом отвечу на вопрос.\n",
    "Для выбора нужного теста воспользуемся алгоритмом выбора теста. Для этого ответим на следующие вопросы:\n",
    "\n",
    "* Какой тип у признака «Зарплата в долларах США»? — Количественный.\n",
    "* Сколько сравниваемых групп? — две.\n",
    "* Группы зависимы? — Нет.\n",
    "* Признак распределён по нормальному закону? — Нет.\n",
    "\n",
    "Чтобы проверить нашу гипотезу, можно использовать U-критерий Манна — Уитни для сравнения распределений на основе рангов."
   ]
  },
  {
   "cell_type": "code",
   "execution_count": 238,
   "metadata": {},
   "outputs": [
    {
     "name": "stdout",
     "output_type": "stream",
     "text": [
      "Количество специалистов на позиции Entry-level/Junior: 22\n",
      "Количество специалистов на позиции Mid-level/Intermediate: 60\n",
      "Количество специалистов на позиции Senior-level/Expert: 61\n",
      "Количество специалистов на позиции Executive-level/Director: 0\n"
     ]
    }
   ],
   "source": [
    "#Отфилтрую по соответствующим позициям\n",
    "entry_level = Data_Scientist[Data_Scientist['experience_level'] == 'EN']\n",
    "mid_level = Data_Scientist[Data_Scientist['experience_level'] == 'MI']\n",
    "senior_level = Data_Scientist[Data_Scientist['experience_level'] == 'SE']\n",
    "executive_level = Data_Scientist[Data_Scientist['experience_level'] == 'EX']\n",
    "\n",
    "# Узнаю сколько специалистов на определённой позиции работает.\n",
    "print(f'Количество специалистов на позиции Entry-level/Junior: {entry_level.shape[0]}')\n",
    "print(f'Количество специалистов на позиции Mid-level/Intermediate: {mid_level.shape[0]}')\n",
    "print(f'Количество специалистов на позиции Senior-level/Expert: {senior_level.shape[0]}')\n",
    "print(f'Количество специалистов на позиции Executive-level/Director: {executive_level.shape[0]}')"
   ]
  },
  {
   "cell_type": "markdown",
   "metadata": {},
   "source": [
    "Специалисты Executive-level/Director в выборке отсутствуют. Не берём для теста в расчёт."
   ]
  },
  {
   "cell_type": "markdown",
   "metadata": {},
   "source": [
    "**Проведём тест**"
   ]
  },
  {
   "cell_type": "code",
   "execution_count": 239,
   "metadata": {},
   "outputs": [
    {
     "name": "stdout",
     "output_type": "stream",
     "text": [
      "Сравнение зарплаты Entry-level/Junior и Mid-level/Intermediate\n",
      "p-value = 0.988\n",
      "p-значение больше, чем заданный уровень значимости 0.05. У нас нет оснований отвергнуть нулевую гипотезу.\n",
      "Сравнение зарплаты Mid-level/Intermediate и Senior-level/Expert\n",
      "p-value = 1.000\n",
      "p-значение больше, чем заданный уровень значимости 0.05. У нас нет оснований отвергнуть нулевую гипотезу.\n"
     ]
    }
   ],
   "source": [
    "# проводим тест\n",
    "print('Сравнение зарплаты Entry-level/Junior и Mid-level/Intermediate')\n",
    "_, p = stats.mannwhitneyu(entry_level['salary_in_usd'], mid_level['salary_in_usd'], alternative='greater')\n",
    "decision_hypothesis(p)\n",
    "\n",
    "print('Сравнение зарплаты Mid-level/Intermediate и Senior-level/Expert')\n",
    "_, p = stats.mannwhitneyu(mid_level['salary_in_usd'], senior_level['salary_in_usd'], alternative='greater')\n",
    "decision_hypothesis(p)\n",
    "\n"
   ]
  },
  {
   "cell_type": "markdown",
   "metadata": {},
   "source": [
    "**Вывод: Чем выше позиция специалиста, тем выше его зарплата.**"
   ]
  },
  {
   "cell_type": "markdown",
   "metadata": {},
   "source": [
    "### Есть ли связь между опытом работы на должности в течение года и типом трудоустройства?"
   ]
  },
  {
   "cell_type": "markdown",
   "metadata": {},
   "source": [
    "*Сформулируем нулевую и альтернативные гипотезы**\n",
    "\n",
    "*Нулевая гипотеза*: между наличием опыта работы на должности в течение года и типом трудоустройства нет взаимосвязи (признаки независимы).\n",
    "\n",
    "*Альтернативная гипотеза*: между наличием опыта работы на должности в течение года и типом трудоустройства есть взаимосвязь (признаки зависимы)."
   ]
  },
  {
   "cell_type": "markdown",
   "metadata": {},
   "source": [
    "**Визуальный анализ данных**"
   ]
  },
  {
   "cell_type": "code",
   "execution_count": 240,
   "metadata": {},
   "outputs": [
    {
     "data": {
      "image/png": "[encoded data removed]",
      "text/plain": [
       "<Figure size 640x480 with 1 Axes>"
      ]
     },
     "metadata": {},
     "output_type": "display_data"
    }
   ],
   "source": [
    "ax = sns.countplot(data=data, x=data['employment_type'], hue='experience_level')\n",
    "ax.set(xlabel='Тип трудоустройства', ylabel='Количество')\n",
    "plt.title('Связь между позицией специалиста и типом трудоустройства')\n",
    "plt.show()"
   ]
  },
  {
   "cell_type": "code",
   "execution_count": 241,
   "metadata": {},
   "outputs": [
    {
     "data": {
      "image/png": "[encoded data removed]",
      "text/plain": [
       "<Figure size 640x480 with 2 Axes>"
      ]
     },
     "metadata": {},
     "output_type": "display_data"
    }
   ],
   "source": [
    "cross_tab = pd.crosstab(index=data['employment_type'], columns=data['experience_level'])\n",
    "ax = sns.heatmap(cross_tab, annot=True, linewidth=.5, fmt='.0f', cmap=\"coolwarm\")\n",
    "ax.set(xlabel='Позиция специалиста', ylabel='Тип трудоустройства')\n",
    "plt.title('Таблица сопряженности')\n",
    "plt.show()"
   ]
  },
  {
   "cell_type": "markdown",
   "metadata": {},
   "source": [
    "**Выберем подходящий статистический тест**\n",
    "\n",
    "Для выбора нужного теста воспользуемся алгоритмом выбора теста. Для этого ответим на следующие вопросы:\n",
    "* Какой тип у признака «employment_type»? — Категориальный.\n",
    "* Сколько сравниваемых групп? — Четыре.\n",
    "* Проверяется независимость групп? — Да.\n",
    "\n",
    "Для проверки нашей гипотезы можно использовать критерий ${\\chi}^2$ (хи-квадрат).\n",
    "\n",
    "**Проведём тест**"
   ]
  },
  {
   "cell_type": "code",
   "execution_count": 242,
   "metadata": {},
   "outputs": [
    {
     "data": {
      "text/html": [
       "<div>\n",
       "<style scoped>\n",
       "    .dataframe tbody tr th:only-of-type {\n",
       "        vertical-align: middle;\n",
       "    }\n",
       "\n",
       "    .dataframe tbody tr th {\n",
       "        vertical-align: top;\n",
       "    }\n",
       "\n",
       "    .dataframe thead th {\n",
       "        text-align: right;\n",
       "    }\n",
       "</style>\n",
       "<table border=\"1\" class=\"dataframe\">\n",
       "  <thead>\n",
       "    <tr style=\"text-align: right;\">\n",
       "      <th>employment_type</th>\n",
       "      <th>CT</th>\n",
       "      <th>FL</th>\n",
       "      <th>FT</th>\n",
       "      <th>PT</th>\n",
       "    </tr>\n",
       "    <tr>\n",
       "      <th>experience_level</th>\n",
       "      <th></th>\n",
       "      <th></th>\n",
       "      <th></th>\n",
       "      <th></th>\n",
       "    </tr>\n",
       "  </thead>\n",
       "  <tbody>\n",
       "    <tr>\n",
       "      <th>EN</th>\n",
       "      <td>2</td>\n",
       "      <td>0</td>\n",
       "      <td>79</td>\n",
       "      <td>7</td>\n",
       "    </tr>\n",
       "    <tr>\n",
       "      <th>EX</th>\n",
       "      <td>1</td>\n",
       "      <td>0</td>\n",
       "      <td>25</td>\n",
       "      <td>0</td>\n",
       "    </tr>\n",
       "    <tr>\n",
       "      <th>MI</th>\n",
       "      <td>1</td>\n",
       "      <td>3</td>\n",
       "      <td>206</td>\n",
       "      <td>3</td>\n",
       "    </tr>\n",
       "    <tr>\n",
       "      <th>SE</th>\n",
       "      <td>1</td>\n",
       "      <td>1</td>\n",
       "      <td>278</td>\n",
       "      <td>0</td>\n",
       "    </tr>\n",
       "  </tbody>\n",
       "</table>\n",
       "</div>"
      ],
      "text/plain": [
       "employment_type   CT  FL   FT  PT\n",
       "experience_level                 \n",
       "EN                 2   0   79   7\n",
       "EX                 1   0   25   0\n",
       "MI                 1   3  206   3\n",
       "SE                 1   1  278   0"
      ]
     },
     "execution_count": 242,
     "metadata": {},
     "output_type": "execute_result"
    }
   ],
   "source": [
    "# составляем таблицу сопряжённости\n",
    "cross_table = pd.crosstab(data['experience_level'], data['employment_type'])\n",
    "\n",
    "cross_table"
   ]
  },
  {
   "cell_type": "code",
   "execution_count": 243,
   "metadata": {},
   "outputs": [
    {
     "name": "stdout",
     "output_type": "stream",
     "text": [
      "p-value = 0.000\n",
      "p-значение меньше, чем заданный уровень значимости 0.05. Отвергаем нулевую гипотезу в пользу альтернативной.\n"
     ]
    }
   ],
   "source": [
    "# проводим тест\n",
    "_, p, _, _ = stats.chi2_contingency(cross_table)\n",
    "decision_hypothesis(p)"
   ]
  },
  {
   "cell_type": "markdown",
   "metadata": {},
   "source": [
    "**Вывод: связь между опытом работы и тип трудоустройства присутствует**"
   ]
  },
  {
   "cell_type": "markdown",
   "metadata": {},
   "source": [
    "## Финальный вывод по исследованию"
   ]
  },
  {
   "cell_type": "markdown",
   "metadata": {},
   "source": [
    "1.Зарплата с каждым годом становится выше, либо не меняется. Нет оснований говорить, что зарплата становится меньше;\n",
    "2.Зарплата у Data Scientist выше или равна зарплате Data Engineer;              \n",
    "3.Зарплаты специалистов Data Scientist отличаются в зависимости от размера компании;  \n",
    "4.Количество специалистов Data Scientist и Data Engineer зависит от размера компании (признаки зависимы);  \n",
    "5.Чем выше позиция специалиста, тем выше его зарплата;  \n",
    "6.Связь между опытом работы и типом трудоустройства присутствует "
   ]
  },
  {
   "cell_type": "markdown",
   "metadata": {},
   "source": []
  }
 ],
 "metadata": {
  "kernelspec": {
   "display_name": "Python 3",
   "language": "python",
   "name": "python3"
  },
  "language_info": {
   "codemirror_mode": {
    "name": "ipython",
    "version": 3
   },
   "file_extension": ".py",
   "mimetype": "text/x-python",
   "name": "python",
   "nbconvert_exporter": "python",
   "pygments_lexer": "ipython3",
   "version": "3.11.0"
  }
 },
 "nbformat": 4,
 "nbformat_minor": 2
}
